{
 "cells": [
  {
   "cell_type": "markdown",
   "metadata": {},
   "source": [
    "RF-PHATE is a supervised dimensionality reduction tool which can be used in exploratory data analysis. To install, please use: `pip install git+https://github.com/jakerhodes/RF-PHATE`."
   ]
  },
  {
   "cell_type": "markdown",
   "metadata": {},
   "source": [
    "Here we provide a simple example of using RF-PHATE for dimensionality reduction. We use the `titanic` dataset with survival as the response."
   ]
  },
  {
   "cell_type": "code",
   "execution_count": null,
   "metadata": {},
   "outputs": [],
   "source": [
    "from rfphate import load_data\n"
   ]
  }
 ],
 "metadata": {
  "kernelspec": {
   "display_name": "base",
   "language": "python",
   "name": "python3"
  },
  "language_info": {
   "name": "python",
   "version": "3.10.9"
  },
  "orig_nbformat": 4
 },
 "nbformat": 4,
 "nbformat_minor": 2
}
