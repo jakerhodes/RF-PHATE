{
 "cells": [
  {
   "cell_type": "markdown",
   "metadata": {},
   "source": [
    "RF-PHATE is a supervised dimensionality reduction tool which can be used in exploratory data analysis. To install, please use: `pip install git+https://github.com/jakerhodes/RF-PHATE`."
   ]
  },
  {
   "cell_type": "code",
   "execution_count": null,
   "metadata": {},
   "outputs": [],
   "source": [
    "import rfphate\n",
    "import seaborn as sns\n",
    "import pandas as pd"
   ]
  },
  {
   "cell_type": "markdown",
   "metadata": {},
   "source": [
    "Here we provide a simple example of using RF-PHATE for dimensionality reduction. We use the `titanic` dataset with survival as the response. We use the `dataprep` function to encode categorical variables as numeric and normalize all numeric variables. This function provides us the data, `x` and labels `y`. "
   ]
  },
  {
   "cell_type": "code",
   "execution_count": null,
   "metadata": {},
   "outputs": [],
   "source": [
    "data = rfphate.load_data('titanic')\n",
    "x, y = rfphate.dataprep(data)"
   ]
  },
  {
   "cell_type": "markdown",
   "metadata": {},
   "source": [
    "We instantiate an RF-PHATE object and generate the 2-dimensional embedding using the `fit_transform` method. The resulting embedding will be stored as a NumPy array. This should take less than a couple of seconds to run."
   ]
  },
  {
   "cell_type": "code",
   "execution_count": null,
   "metadata": {},
   "outputs": [],
   "source": [
    "rfphate_op = rfphate.RFPHATE(random_state = 42)\n",
    "emb = rfphate_op.fit_transform(x, y)"
   ]
  },
  {
   "cell_type": "markdown",
   "metadata": {},
   "source": [
    "We can explore variable relationships by coloring the scatterplot of the embedding by different featuers. We start by coloring with the class labels, `Survived'.`"
   ]
  },
  {
   "cell_type": "code",
   "execution_count": null,
   "metadata": {},
   "outputs": [],
   "source": [
    "sns.scatterplot(x = emb[:, 0], y = emb[:, 1], hue = y, markers = {'survived': '.', 'died': 'X'}, style = data['Survived'], alpha = .8)"
   ]
  },
  {
   "cell_type": "markdown",
   "metadata": {},
   "source": [
    "To select features for coloration, we can see which features are most important for the prediction problem using the random forests `feature_importances_`"
   ]
  },
  {
   "cell_type": "code",
   "execution_count": null,
   "metadata": {},
   "outputs": [],
   "source": [
    "data.iloc[:, 1:].columns"
   ]
  },
  {
   "cell_type": "code",
   "execution_count": null,
   "metadata": {},
   "outputs": [],
   "source": [
    "importances = rfphate_op.feature_importances_\n",
    "sns.barplot(x = data.iloc[:, 1:].columns, y = importances)"
   ]
  },
  {
   "cell_type": "code",
   "execution_count": null,
   "metadata": {},
   "outputs": [],
   "source": [
    "sns.scatterplot(x = emb[:, 0], y = emb[:, 1], hue = data['Fare'], markers = {'survived': '.', 'died': 'X'}, style = data['Survived'], alpha = .8)"
   ]
  },
  {
   "cell_type": "code",
   "execution_count": null,
   "metadata": {},
   "outputs": [],
   "source": [
    "sns.scatterplot(x = emb[:, 0], y = emb[:, 1], hue = data['Age'], markers = {'survived': '.', 'died': 'X'}, style = data['Survived'], alpha = .8)"
   ]
  },
  {
   "cell_type": "code",
   "execution_count": null,
   "metadata": {},
   "outputs": [],
   "source": [
    "sns.scatterplot(x = emb[:, 0], y = emb[:, 1], hue = data['Sex'], markers = {'survived': '.', 'died': 'X'}, style = data['Survived'], alpha = .8)"
   ]
  },
  {
   "cell_type": "code",
   "execution_count": null,
   "metadata": {},
   "outputs": [],
   "source": [
    "sns.scatterplot(x = emb[:, 0], y = emb[:, 1], hue = pd.Categorical(data['Pclass']), markers = {'survived': '.', 'died': 'X'}, style = data['Survived'], alpha = .8)"
   ]
  },
  {
   "cell_type": "markdown",
   "metadata": {},
   "source": [
    "We can take a closer look using `plotly` for an interactive scatterplot. (You can install `plotly` with `pip install plotly`)."
   ]
  },
  {
   "cell_type": "code",
   "execution_count": null,
   "metadata": {},
   "outputs": [],
   "source": [
    "import plotly.express as px\n",
    "\n",
    "px.scatter(data, x = emb[:, 0], y = emb[:, 1], color = data['Pclass'].astype(str), symbol = data['Survived'], \n",
    "symbol_map = {'died': 'x', 'survived': 'circle'}, hover_data = ['Survived', 'Pclass', 'Sex', 'Age', 'Fare'])"
   ]
  },
  {
   "cell_type": "code",
   "execution_count": null,
   "metadata": {},
   "outputs": [],
   "source": [
    "px.scatter()"
   ]
  }
 ],
 "metadata": {
  "kernelspec": {
   "display_name": "base",
   "language": "python",
   "name": "python3"
  },
  "language_info": {
   "codemirror_mode": {
    "name": "ipython",
    "version": 3
   },
   "file_extension": ".py",
   "mimetype": "text/x-python",
   "name": "python",
   "nbconvert_exporter": "python",
   "pygments_lexer": "ipython3",
   "version": "3.11.5"
  },
  "orig_nbformat": 4
 },
 "nbformat": 4,
 "nbformat_minor": 2
}
